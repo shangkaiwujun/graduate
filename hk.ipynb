{
 "cells": [
  {
   "cell_type": "code",
   "execution_count": 1,
   "metadata": {},
   "outputs": [],
   "source": [
    "import numpy as np\n",
    "import pandas as pd\n",
    "from sklearn.linear_model import LinearRegression,Lasso,Ridge\n",
    "from sklearn.model_selection import KFold,TimeSeriesSplit\n",
    "from sklearn.metrics import mean_squared_error,r2_score\n",
    "from sklearn.preprocessing import StandardScaler\n",
    "import matplotlib.pyplot as plt\n",
    "import seaborn as sns\n",
    "from tqdm import  tqdm\n",
    "from scipy.stats import pearsonr\n",
    "pd.set_option('display.max_columns',None)"
   ]
  },
  {
   "cell_type": "code",
   "execution_count": 2,
   "metadata": {},
   "outputs": [],
   "source": [
    "hk_100 = pd.read_excel('hk100.xls', sheet_name=None)\n",
    "hk_100 = pd.concat(hk_100.values(), ignore_index=True).dropna()\n",
    "hk_100.columns=['id','name','date','open','close','high','low','return','return_percent','pre_close','volume','value']\n",
    "#nas_100.set_index('date',drop=True,inplace=True)"
   ]
  },
  {
   "cell_type": "code",
   "execution_count": 3,
   "metadata": {},
   "outputs": [
    {
     "data": {
      "text/html": [
       "<div>\n",
       "<style scoped>\n",
       "    .dataframe tbody tr th:only-of-type {\n",
       "        vertical-align: middle;\n",
       "    }\n",
       "\n",
       "    .dataframe tbody tr th {\n",
       "        vertical-align: top;\n",
       "    }\n",
       "\n",
       "    .dataframe thead th {\n",
       "        text-align: right;\n",
       "    }\n",
       "</style>\n",
       "<table border=\"1\" class=\"dataframe\">\n",
       "  <thead>\n",
       "    <tr style=\"text-align: right;\">\n",
       "      <th></th>\n",
       "      <th>id</th>\n",
       "      <th>name</th>\n",
       "      <th>date</th>\n",
       "      <th>open</th>\n",
       "      <th>close</th>\n",
       "      <th>high</th>\n",
       "      <th>low</th>\n",
       "      <th>return</th>\n",
       "      <th>return_percent</th>\n",
       "      <th>pre_close</th>\n",
       "      <th>volume</th>\n",
       "      <th>value</th>\n",
       "    </tr>\n",
       "  </thead>\n",
       "  <tbody>\n",
       "    <tr>\n",
       "      <th>248</th>\n",
       "      <td>00001.HK</td>\n",
       "      <td>长和</td>\n",
       "      <td>2015/03/18</td>\n",
       "      <td>151.9</td>\n",
       "      <td>151.5</td>\n",
       "      <td>152.7</td>\n",
       "      <td>150.5</td>\n",
       "      <td>1.416</td>\n",
       "      <td>0.9435</td>\n",
       "      <td>150.084</td>\n",
       "      <td>6828236.0</td>\n",
       "      <td>1.035472e+09</td>\n",
       "    </tr>\n",
       "    <tr>\n",
       "      <th>249</th>\n",
       "      <td>00001.HK</td>\n",
       "      <td>长和</td>\n",
       "      <td>2015/03/19</td>\n",
       "      <td>154.4</td>\n",
       "      <td>152.4</td>\n",
       "      <td>154.4</td>\n",
       "      <td>152.2</td>\n",
       "      <td>0.900</td>\n",
       "      <td>0.5941</td>\n",
       "      <td>151.500</td>\n",
       "      <td>4190229.0</td>\n",
       "      <td>6.407324e+08</td>\n",
       "    </tr>\n",
       "    <tr>\n",
       "      <th>250</th>\n",
       "      <td>00001.HK</td>\n",
       "      <td>长和</td>\n",
       "      <td>2015/03/20</td>\n",
       "      <td>152.5</td>\n",
       "      <td>151.6</td>\n",
       "      <td>153.0</td>\n",
       "      <td>151.2</td>\n",
       "      <td>-0.800</td>\n",
       "      <td>-0.5249</td>\n",
       "      <td>152.400</td>\n",
       "      <td>3081098.0</td>\n",
       "      <td>4.686332e+08</td>\n",
       "    </tr>\n",
       "    <tr>\n",
       "      <th>251</th>\n",
       "      <td>00001.HK</td>\n",
       "      <td>长和</td>\n",
       "      <td>2015/03/23</td>\n",
       "      <td>152.0</td>\n",
       "      <td>150.6</td>\n",
       "      <td>152.0</td>\n",
       "      <td>150.2</td>\n",
       "      <td>-1.000</td>\n",
       "      <td>-0.6596</td>\n",
       "      <td>151.600</td>\n",
       "      <td>3911704.0</td>\n",
       "      <td>5.896717e+08</td>\n",
       "    </tr>\n",
       "    <tr>\n",
       "      <th>252</th>\n",
       "      <td>00001.HK</td>\n",
       "      <td>长和</td>\n",
       "      <td>2015/03/24</td>\n",
       "      <td>151.0</td>\n",
       "      <td>151.4</td>\n",
       "      <td>152.1</td>\n",
       "      <td>150.6</td>\n",
       "      <td>0.800</td>\n",
       "      <td>0.5312</td>\n",
       "      <td>150.600</td>\n",
       "      <td>2273318.0</td>\n",
       "      <td>3.443741e+08</td>\n",
       "    </tr>\n",
       "  </tbody>\n",
       "</table>\n",
       "</div>"
      ],
      "text/plain": [
       "           id name        date   open  close   high    low  return  \\\n",
       "248  00001.HK   长和  2015/03/18  151.9  151.5  152.7  150.5   1.416   \n",
       "249  00001.HK   长和  2015/03/19  154.4  152.4  154.4  152.2   0.900   \n",
       "250  00001.HK   长和  2015/03/20  152.5  151.6  153.0  151.2  -0.800   \n",
       "251  00001.HK   长和  2015/03/23  152.0  150.6  152.0  150.2  -1.000   \n",
       "252  00001.HK   长和  2015/03/24  151.0  151.4  152.1  150.6   0.800   \n",
       "\n",
       "     return_percent  pre_close     volume         value  \n",
       "248          0.9435    150.084  6828236.0  1.035472e+09  \n",
       "249          0.5941    151.500  4190229.0  6.407324e+08  \n",
       "250         -0.5249    152.400  3081098.0  4.686332e+08  \n",
       "251         -0.6596    151.600  3911704.0  5.896717e+08  \n",
       "252          0.5312    150.600  2273318.0  3.443741e+08  "
      ]
     },
     "execution_count": 3,
     "metadata": {},
     "output_type": "execute_result"
    }
   ],
   "source": [
    "hk_100.head()"
   ]
  },
  {
   "cell_type": "code",
   "execution_count": 4,
   "metadata": {},
   "outputs": [],
   "source": [
    "new_df = hk_100.pivot(index='date', columns='id', values='return_percent').fillna(0)"
   ]
  },
  {
   "cell_type": "code",
   "execution_count": 5,
   "metadata": {},
   "outputs": [],
   "source": [
    "length =10\n",
    "\n",
    "hk_100['vol_'] = hk_100.groupby('id')['return_percent'].rolling(length).std().shift(-length).values\n",
    "hk_100['vol'] = hk_100['vol_']**2\n",
    "\n",
    "#hk_100['vol'] = (hk_100['return_percent'])**2"
   ]
  },
  {
   "cell_type": "code",
   "execution_count": 22,
   "metadata": {},
   "outputs": [],
   "source": [
    "def feature_cal(df):\n",
    "    #return ((df['vwap']+df['vwap'])-(df['high']+df['low']))/df['close'].fillna(0)\n",
    "    #return df['volume'].diff().fillna(0)\n",
    "    #return df['return_percent'].rolling(length).std().diff().fillna(0)\n",
    "    return df['return_percent']"
   ]
  },
  {
   "cell_type": "code",
   "execution_count": 23,
   "metadata": {},
   "outputs": [
    {
     "name": "stderr",
     "output_type": "stream",
     "text": [
      "  0%|          | 0/100 [00:00<?, ?it/s]"
     ]
    },
    {
     "name": "stderr",
     "output_type": "stream",
     "text": [
      "100%|██████████| 100/100 [00:01<00:00, 78.17it/s]\n"
     ]
    },
    {
     "data": {
      "text/plain": [
       "99"
      ]
     },
     "execution_count": 23,
     "metadata": {},
     "output_type": "execute_result"
    }
   ],
   "source": [
    "s = 0\n",
    "bestname = []\n",
    "for name in tqdm(new_df.columns[:]):\n",
    "    small_df = hk_100[hk_100['id']==name].copy().dropna()\n",
    "    feature = np.abs(feature_cal(small_df))\n",
    "    corr = pearsonr(feature[:-1], small_df['vol'].shift(-1)[:-1])\n",
    "    if (corr[1]) < 0.05:\n",
    "        bestname.append(name)\n",
    "    \n",
    "len(bestname)"
   ]
  },
  {
   "cell_type": "code",
   "execution_count": 24,
   "metadata": {},
   "outputs": [
    {
     "name": "stderr",
     "output_type": "stream",
     "text": [
      "  0%|          | 0/99 [00:00<?, ?it/s]"
     ]
    },
    {
     "name": "stderr",
     "output_type": "stream",
     "text": [
      "100%|██████████| 99/99 [00:05<00:00, 17.58it/s]\n"
     ]
    },
    {
     "data": {
      "image/png": "[encoded data removed]",
      "text/plain": [
       "<Figure size 432x288 with 1 Axes>"
      ]
     },
     "metadata": {
      "needs_background": "light"
     },
     "output_type": "display_data"
    }
   ],
   "source": [
    "n = 200\n",
    "l_corr_list = [0 for i in range(n)]\n",
    "l_corr_list_ = [0 for i in range(n)]\n",
    "#bestname = new_df.columns\n",
    "test_names = bestname[:]\n",
    "\n",
    "for name in tqdm(test_names):\n",
    "    small_df = hk_100[hk_100['id']==name].copy().dropna()\n",
    "    feature = np.abs(feature_cal(small_df))\n",
    "    for i in range(1, n+1):\n",
    "        pear = pearsonr(feature[:-i:3], small_df['vol'].shift(-i)[:-i:3])\n",
    "        l_corr_list[i-1] += (pear[0]*(pear[1]<0.05))/len(test_names)\n",
    "        l_corr_list_[i-1] += (pear[0])/len(test_names)\n",
    "\n",
    "plt.stem(range(n), np.array(l_corr_list))\n",
    "#lt.scatter(range(n), np.array(l_corr_list_),c='r')\n",
    "plt.xlabel(r'$ \\tau$')\n",
    "plt.ylabel('average correlation')\n",
    "plt.title(r'relation between corr and $\\tau$')\n",
    "plt.show()"
   ]
  },
  {
   "cell_type": "code",
   "execution_count": 25,
   "metadata": {},
   "outputs": [
    {
     "data": {
      "image/png": "[encoded data removed]",
      "text/plain": [
       "<Figure size 432x288 with 1 Axes>"
      ]
     },
     "metadata": {
      "needs_background": "light"
     },
     "output_type": "display_data"
    }
   ],
   "source": [
    "step = 3\n",
    "plt.stem(range(0,n,step), np.array(l_corr_list[::step]), linefmt='black', markerfmt='ko', basefmt='k-')\n",
    "ax = plt.gca()\n",
    "\n",
    "# 隐藏右边和上边的边框\n",
    "ax.spines['right'].set_color('none')\n",
    "ax.spines['top'].set_color('none')\n",
    "#plt.scatter(range(n), np.array(l_corr_list_),c='r')\n",
    "plt.xlabel(r'$ \\tau$/day')\n",
    "plt.ylabel('average correlation')\n",
    "#plt.title(r'relation between corr and $\\tau$')\n",
    "plt.show()"
   ]
  },
  {
   "cell_type": "code",
   "execution_count": 10,
   "metadata": {},
   "outputs": [
    {
     "name": "stderr",
     "output_type": "stream",
     "text": [
      "  0%|          | 0/72 [00:00<?, ?it/s]"
     ]
    },
    {
     "name": "stderr",
     "output_type": "stream",
     "text": [
      "100%|██████████| 72/72 [00:05<00:00, 14.20it/s]\n"
     ]
    },
    {
     "data": {
      "image/png": "[encoded data removed]",
      "text/plain": [
       "<Figure size 432x288 with 1 Axes>"
      ]
     },
     "metadata": {
      "needs_background": "light"
     },
     "output_type": "display_data"
    }
   ],
   "source": [
    "n = 100\n",
    "l_corr_list = [0 for i in range(n)]\n",
    "l_corr_list_ = [0 for i in range(n)]\n",
    "#bestname = new_df.columns\n",
    "test_names = bestname[:]\n",
    "\n",
    "for name in tqdm(test_names):\n",
    "    small_df = hk_100[hk_100['id']==name].copy().dropna()\n",
    "    feature = np.abs(feature_cal(small_df))\n",
    "    for i in range(1, n+1):\n",
    "        pear = pearsonr(feature[:-i:3], small_df['volume'].shift(-i)[:-i:3])\n",
    "        l_corr_list[i-1] += (pear[0]*(pear[1]<0.05))/len(test_names)\n",
    "        l_corr_list_[i-1] += (pear[0])/len(test_names)\n",
    "\n",
    "plt.plot(range(n), np.array(l_corr_list))\n",
    "plt.scatter(range(n), np.array(l_corr_list_),c='r')\n",
    "plt.xlabel(r'$ \\tau$')\n",
    "plt.ylabel('average correlation')\n",
    "plt.title(r'relation between corr and $\\tau$')\n",
    "plt.show()"
   ]
  },
  {
   "cell_type": "code",
   "execution_count": 11,
   "metadata": {},
   "outputs": [],
   "source": [
    "new_df_vol = hk_100.pivot(index='date', columns='id', values='vol').fillna(0)\n",
    "new_df_resi = new_df.copy()\n",
    "aver =  np.array(new_df_vol.T.mean()).reshape(-1,1)\n",
    "for name in new_df_vol.columns:\n",
    "    fit_y = new_df_vol[name]\n",
    "    fit_x = aver\n",
    "    regression_model = LinearRegression()\n",
    "    regression_model.fit(fit_x, fit_y)\n",
    "\n",
    "    # 计算拟合后的残差\n",
    "    residuals = fit_y - regression_model.predict(fit_x)\n",
    "    new_df_resi[name] = residuals"
   ]
  },
  {
   "cell_type": "code",
   "execution_count": 26,
   "metadata": {},
   "outputs": [
    {
     "data": {
      "image/png": "[encoded data removed]",
      "text/plain": [
       "<Figure size 432x288 with 1 Axes>"
      ]
     },
     "metadata": {
      "needs_background": "light"
     },
     "output_type": "display_data"
    },
    {
     "name": "stdout",
     "output_type": "stream",
     "text": [
      "0.14469580837192608\n"
     ]
    }
   ],
   "source": [
    "stocks = new_df_resi.columns\n",
    "corr_list_ = [0 for i in stocks]\n",
    "for i in range(len(stocks)):\n",
    "    corr_list = [abs(pearsonr(new_df_resi[stocks[i]],new_df_resi[stocks[j]])[0]) for j in range(len(stocks))]\n",
    "    (corr_list).sort(reverse= True)\n",
    "    for j in range(len(stocks)):\n",
    "        corr_list_[j] += corr_list[j]/len(stocks)\n",
    "plt.stem(range(len(stocks)-1), corr_list_[1:], linefmt='black', markerfmt='ko', basefmt='k-')\n",
    "ax = plt.gca()\n",
    "\n",
    "# 隐藏右边和上边的边框\n",
    "ax.spines['right'].set_color('none')\n",
    "ax.spines['top'].set_color('none')\n",
    "plt.xlabel('stock index')\n",
    "plt.ylabel('correlation')\n",
    "plt.ylim(0,1)\n",
    "plt.show()\n",
    "\n",
    "print(sum(corr_list_[1:])/(len(corr_list_)-1))"
   ]
  },
  {
   "cell_type": "code",
   "execution_count": 13,
   "metadata": {},
   "outputs": [
    {
     "name": "stderr",
     "output_type": "stream",
     "text": [
      "100%|██████████| 72/72 [00:09<00:00,  7.97it/s]\n"
     ]
    },
    {
     "data": {
      "image/png": "[encoded data removed]",
      "text/plain": [
       "<Figure size 432x288 with 1 Axes>"
      ]
     },
     "metadata": {
      "needs_background": "light"
     },
     "output_type": "display_data"
    }
   ],
   "source": [
    "n = 200\n",
    "l_corr_list = [0 for i in range(n)]\n",
    "l_corr_list_ = [0 for i in range(n)]\n",
    "#bestname = new_df.columns\n",
    "test_names = bestname[:]\n",
    "\n",
    "for name in tqdm(test_names):\n",
    "    small_df = hk_100[hk_100['id']==name].copy().dropna()\n",
    "    series = pd.Series(small_df['vol'].fillna(0))\n",
    "\n",
    "    autocorrelation = series.autocorr()\n",
    "\n",
    "    # 计算不同滞后阶数的自相关系数\n",
    "    lags = range(n)\n",
    "    for lag in lags:\n",
    "        l_corr_list[lag] += series.autocorr(lag)/len(test_names)\n",
    "\n",
    "plt.stem(range(n), np.array(l_corr_list))\n",
    "#plt.scatter(range(n), np.array(l_corr_list_),c='r')\n",
    "plt.xlabel(r'lag')\n",
    "plt.ylabel('auto-correlation')\n",
    "#plt.title(r'auto')\n",
    "plt.show()"
   ]
  },
  {
   "cell_type": "code",
   "execution_count": 14,
   "metadata": {},
   "outputs": [
    {
     "data": {
      "image/png": "[encoded data removed]",
      "text/plain": [
       "<Figure size 432x288 with 1 Axes>"
      ]
     },
     "metadata": {
      "needs_background": "light"
     },
     "output_type": "display_data"
    }
   ],
   "source": [
    "step = 3\n",
    "plt.stem(range(0,n,step), np.array(l_corr_list[::step]))\n",
    "#plt.scatter(range(n), np.array(l_corr_list_),c='r')\n",
    "plt.xlabel(r'$ \\tau$')\n",
    "plt.ylabel('average correlation')\n",
    "#plt.title(r'relation between corr and $\\tau$')\n",
    "plt.show()"
   ]
  },
  {
   "cell_type": "code",
   "execution_count": null,
   "metadata": {},
   "outputs": [],
   "source": []
  }
 ],
 "metadata": {
  "kernelspec": {
   "display_name": "base",
   "language": "python",
   "name": "python3"
  },
  "language_info": {
   "codemirror_mode": {
    "name": "ipython",
    "version": 3
   },
   "file_extension": ".py",
   "mimetype": "text/x-python",
   "name": "python",
   "nbconvert_exporter": "python",
   "pygments_lexer": "ipython3",
   "version": "3.9.12"
  }
 },
 "nbformat": 4,
 "nbformat_minor": 2
}
