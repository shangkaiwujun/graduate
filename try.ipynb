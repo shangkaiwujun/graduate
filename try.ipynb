{
 "cells": [
  {
   "cell_type": "code",
   "execution_count": 2,
   "metadata": {},
   "outputs": [],
   "source": [
    "import random\n",
    "from tqdm import tqdm"
   ]
  },
  {
   "cell_type": "code",
   "execution_count": 17,
   "metadata": {},
   "outputs": [
    {
     "name": "stderr",
     "output_type": "stream",
     "text": [
      "100%|██████████| 1000000/1000000 [00:03<00:00, 300097.33it/s]\n"
     ]
    }
   ],
   "source": [
    "num = 1000000\n",
    "len_list_all = []\n",
    "len_list_no_5 = []\n",
    "for i in tqdm(range(num)):\n",
    "    j = random.choice([1,2,3,4,5,6])\n",
    "    length = 1\n",
    "    have_5 = False\n",
    "    if j == 5:\n",
    "        have_5 = True\n",
    "    while j != 6:\n",
    "        length += 1\n",
    "        j = random.choice([1,2,3,4,5,6])\n",
    "        if j == 5:\n",
    "            have_5 = True\n",
    "    if have_5 != True:\n",
    "        len_list_no_5.append(length)\n",
    "    len_list_all.append(length)\n",
    "        "
   ]
  },
  {
   "cell_type": "code",
   "execution_count": 18,
   "metadata": {},
   "outputs": [
    {
     "name": "stdout",
     "output_type": "stream",
     "text": [
      "2.9992146078934905\n",
      "500387\n"
     ]
    }
   ],
   "source": [
    "print(sum(len_list_no_5)/len(len_list_no_5))\n",
    "print(len(len_list_no_5))"
   ]
  },
  {
   "cell_type": "code",
   "execution_count": 19,
   "metadata": {},
   "outputs": [
    {
     "name": "stdout",
     "output_type": "stream",
     "text": [
      "5.995902\n",
      "1000000\n"
     ]
    }
   ],
   "source": [
    "print(sum(len_list_all)/len(len_list_all))\n",
    "print(len(len_list_all))"
   ]
  },
  {
   "cell_type": "code",
   "execution_count": null,
   "metadata": {},
   "outputs": [],
   "source": []
  }
 ],
 "metadata": {
  "kernelspec": {
   "display_name": "base",
   "language": "python",
   "name": "python3"
  },
  "language_info": {
   "codemirror_mode": {
    "name": "ipython",
    "version": 3
   },
   "file_extension": ".py",
   "mimetype": "text/x-python",
   "name": "python",
   "nbconvert_exporter": "python",
   "pygments_lexer": "ipython3",
   "version": "3.9.12"
  }
 },
 "nbformat": 4,
 "nbformat_minor": 2
}
