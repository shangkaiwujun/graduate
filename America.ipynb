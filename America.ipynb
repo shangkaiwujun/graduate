{
 "cells": [
  {
   "cell_type": "code",
   "execution_count": 1,
   "metadata": {},
   "outputs": [],
   "source": [
    "import numpy as np\n",
    "import pandas as pd\n",
    "from sklearn.linear_model import LinearRegression,Lasso,Ridge\n",
    "from sklearn.model_selection import KFold,TimeSeriesSplit\n",
    "from sklearn.metrics import mean_squared_error,r2_score\n",
    "from sklearn.preprocessing import StandardScaler\n",
    "import matplotlib.pyplot as plt\n",
    "import seaborn as sns\n",
    "from tqdm import  tqdm\n",
    "from scipy.stats import pearsonr\n",
    "pd.set_option('display.max_columns',None)"
   ]
  },
  {
   "cell_type": "code",
   "execution_count": 2,
   "metadata": {},
   "outputs": [],
   "source": [
    "nas_100 = pd.read_excel('nas100.xls', sheet_name=None)\n",
    "nas_100 = pd.concat(nas_100.values(), ignore_index=True).dropna()\n",
    "nas_100.columns=['id','name','date','open','close','high','low','return','return_percent','pre_close','volume','value']\n",
    "#nas_100.set_index('date',drop=True,inplace=True)"
   ]
  },
  {
   "cell_type": "code",
   "execution_count": 3,
   "metadata": {},
   "outputs": [
    {
     "data": {
      "text/html": [
       "<div>\n",
       "<style scoped>\n",
       "    .dataframe tbody tr th:only-of-type {\n",
       "        vertical-align: middle;\n",
       "    }\n",
       "\n",
       "    .dataframe tbody tr th {\n",
       "        vertical-align: top;\n",
       "    }\n",
       "\n",
       "    .dataframe thead th {\n",
       "        text-align: right;\n",
       "    }\n",
       "</style>\n",
       "<table border=\"1\" class=\"dataframe\">\n",
       "  <thead>\n",
       "    <tr style=\"text-align: right;\">\n",
       "      <th></th>\n",
       "      <th>id</th>\n",
       "      <th>name</th>\n",
       "      <th>date</th>\n",
       "      <th>open</th>\n",
       "      <th>close</th>\n",
       "      <th>high</th>\n",
       "      <th>low</th>\n",
       "      <th>return</th>\n",
       "      <th>return_percent</th>\n",
       "      <th>pre_close</th>\n",
       "      <th>volume</th>\n",
       "      <th>value</th>\n",
       "    </tr>\n",
       "  </thead>\n",
       "  <tbody>\n",
       "    <tr>\n",
       "      <th>911</th>\n",
       "      <td>AAPL.O</td>\n",
       "      <td>苹果</td>\n",
       "      <td>2017/10/25</td>\n",
       "      <td>156.91</td>\n",
       "      <td>156.41</td>\n",
       "      <td>157.55</td>\n",
       "      <td>155.27</td>\n",
       "      <td>-0.69</td>\n",
       "      <td>-0.4392</td>\n",
       "      <td>157.10</td>\n",
       "      <td>21175670.0</td>\n",
       "      <td>3.315909e+09</td>\n",
       "    </tr>\n",
       "    <tr>\n",
       "      <th>912</th>\n",
       "      <td>AAPL.O</td>\n",
       "      <td>苹果</td>\n",
       "      <td>2017/10/26</td>\n",
       "      <td>157.23</td>\n",
       "      <td>157.41</td>\n",
       "      <td>157.83</td>\n",
       "      <td>156.78</td>\n",
       "      <td>1.00</td>\n",
       "      <td>0.6393</td>\n",
       "      <td>156.41</td>\n",
       "      <td>16916650.0</td>\n",
       "      <td>2.676490e+09</td>\n",
       "    </tr>\n",
       "    <tr>\n",
       "      <th>913</th>\n",
       "      <td>AAPL.O</td>\n",
       "      <td>苹果</td>\n",
       "      <td>2017/10/27</td>\n",
       "      <td>159.29</td>\n",
       "      <td>163.05</td>\n",
       "      <td>163.60</td>\n",
       "      <td>158.70</td>\n",
       "      <td>5.64</td>\n",
       "      <td>3.5830</td>\n",
       "      <td>157.41</td>\n",
       "      <td>44387768.0</td>\n",
       "      <td>7.194351e+09</td>\n",
       "    </tr>\n",
       "    <tr>\n",
       "      <th>914</th>\n",
       "      <td>AAPL.O</td>\n",
       "      <td>苹果</td>\n",
       "      <td>2017/10/30</td>\n",
       "      <td>163.89</td>\n",
       "      <td>166.72</td>\n",
       "      <td>168.07</td>\n",
       "      <td>163.72</td>\n",
       "      <td>3.67</td>\n",
       "      <td>2.2508</td>\n",
       "      <td>163.05</td>\n",
       "      <td>44651420.0</td>\n",
       "      <td>7.449492e+09</td>\n",
       "    </tr>\n",
       "    <tr>\n",
       "      <th>915</th>\n",
       "      <td>AAPL.O</td>\n",
       "      <td>苹果</td>\n",
       "      <td>2017/10/31</td>\n",
       "      <td>167.90</td>\n",
       "      <td>169.04</td>\n",
       "      <td>169.65</td>\n",
       "      <td>166.94</td>\n",
       "      <td>2.32</td>\n",
       "      <td>1.3916</td>\n",
       "      <td>166.72</td>\n",
       "      <td>35779520.0</td>\n",
       "      <td>6.077042e+09</td>\n",
       "    </tr>\n",
       "  </tbody>\n",
       "</table>\n",
       "</div>"
      ],
      "text/plain": [
       "         id name        date    open   close    high     low  return  \\\n",
       "911  AAPL.O   苹果  2017/10/25  156.91  156.41  157.55  155.27   -0.69   \n",
       "912  AAPL.O   苹果  2017/10/26  157.23  157.41  157.83  156.78    1.00   \n",
       "913  AAPL.O   苹果  2017/10/27  159.29  163.05  163.60  158.70    5.64   \n",
       "914  AAPL.O   苹果  2017/10/30  163.89  166.72  168.07  163.72    3.67   \n",
       "915  AAPL.O   苹果  2017/10/31  167.90  169.04  169.65  166.94    2.32   \n",
       "\n",
       "     return_percent  pre_close      volume         value  \n",
       "911         -0.4392     157.10  21175670.0  3.315909e+09  \n",
       "912          0.6393     156.41  16916650.0  2.676490e+09  \n",
       "913          3.5830     157.41  44387768.0  7.194351e+09  \n",
       "914          2.2508     163.05  44651420.0  7.449492e+09  \n",
       "915          1.3916     166.72  35779520.0  6.077042e+09  "
      ]
     },
     "execution_count": 3,
     "metadata": {},
     "output_type": "execute_result"
    }
   ],
   "source": [
    "nas_100.head()"
   ]
  },
  {
   "cell_type": "code",
   "execution_count": 4,
   "metadata": {},
   "outputs": [],
   "source": [
    "new_df = nas_100.pivot(index='date', columns='id', values='return_percent').fillna(0)"
   ]
  },
  {
   "cell_type": "code",
   "execution_count": 5,
   "metadata": {},
   "outputs": [],
   "source": [
    "length = 10\n",
    "\n",
    "nas_100['vol_'] = nas_100.groupby('id')['return_percent'].rolling(length).std().shift(-length).values\n",
    "nas_100['vol'] = nas_100['vol_']**2\n",
    "\n",
    "#nas_100['vol'] = (nas_100['return_percent'])**2"
   ]
  },
  {
   "cell_type": "code",
   "execution_count": 6,
   "metadata": {},
   "outputs": [],
   "source": [
    "def feature_cal(df):\n",
    "    #return ((df['close']+df['close'])-(df['high']+df['low']))/df['close'].fillna(0)\n",
    "    # return df['volume'].diff().fillna(0)\n",
    "    #return df['value'].diff().fillna(0)\n",
    "    #return df['return_percent'].rolling(length).std().diff().fillna(0)\n",
    "    return (df['return_percent'])"
   ]
  },
  {
   "cell_type": "code",
   "execution_count": 7,
   "metadata": {},
   "outputs": [
    {
     "name": "stderr",
     "output_type": "stream",
     "text": [
      "  0%|          | 0/101 [00:00<?, ?it/s]"
     ]
    },
    {
     "name": "stderr",
     "output_type": "stream",
     "text": [
      "100%|██████████| 101/101 [00:01<00:00, 63.11it/s]\n"
     ]
    },
    {
     "data": {
      "text/plain": [
       "96"
      ]
     },
     "execution_count": 7,
     "metadata": {},
     "output_type": "execute_result"
    }
   ],
   "source": [
    "s = 0\n",
    "bestname = []\n",
    "for name in tqdm(new_df.columns[:]):\n",
    "    small_df = nas_100[nas_100['id']==name].copy().dropna()\n",
    "    feature = np.abs(feature_cal(small_df))\n",
    "    corr = pearsonr(feature[:-1], small_df['vol'].shift(-1)[:-1])\n",
    "    if (corr[1]) < 0.05:\n",
    "        bestname.append(name)\n",
    "    \n",
    "len(bestname)"
   ]
  },
  {
   "cell_type": "code",
   "execution_count": 8,
   "metadata": {},
   "outputs": [
    {
     "name": "stderr",
     "output_type": "stream",
     "text": [
      "100%|██████████| 96/96 [00:06<00:00, 14.53it/s]\n"
     ]
    }
   ],
   "source": [
    "n = 150\n",
    "l_corr_list = [0 for i in range(n)]\n",
    "l_corr_list_ = [0 for i in range(n)]\n",
    "#bestname = new_df.columns\n",
    "test_names = bestname[:]\n",
    "\n",
    "for name in tqdm(test_names):\n",
    "    small_df = nas_100[nas_100['id']==name].copy().dropna()\n",
    "    feature = np.abs(feature_cal(small_df))\n",
    "    for i in range(1, n+1):\n",
    "        try:\n",
    "            pear = pearsonr(feature[:-i:3], small_df['vol'].shift(-i).fillna(0)[:-i:3])\n",
    "        except ValueError:\n",
    "            pear = (0, 1)\n",
    "        l_corr_list[i-1] += (pear[0]*(pear[1]<0.05))/len(test_names)\n",
    "        l_corr_list_[i-1] += (pear[0])/len(test_names)\n"
   ]
  },
  {
   "cell_type": "code",
   "execution_count": 9,
   "metadata": {},
   "outputs": [
    {
     "data": {
      "image/png": "[encoded data removed]",
      "text/plain": [
       "<Figure size 432x288 with 1 Axes>"
      ]
     },
     "metadata": {
      "needs_background": "light"
     },
     "output_type": "display_data"
    }
   ],
   "source": [
    "step = 3\n",
    "plt.stem(range(0,n,step), np.array(l_corr_list[::step]), linefmt='black', markerfmt='ko', basefmt='k-')\n",
    "ax = plt.gca()\n",
    "\n",
    "# 隐藏右边和上边的边框\n",
    "ax.spines['right'].set_color('none')\n",
    "ax.spines['top'].set_color('none')\n",
    "#plt.scatter(range(n), np.array(l_corr_list_),c='r')\n",
    "plt.xlabel(r'$ \\tau$/day')\n",
    "plt.ylabel('average correlation')\n",
    "#plt.title(r'relation between corr and $\\tau$')\n",
    "plt.show()"
   ]
  },
  {
   "cell_type": "code",
   "execution_count": 10,
   "metadata": {},
   "outputs": [],
   "source": [
    "new_df_vol = nas_100.pivot(index='date', columns='id', values='vol').fillna(0)\n",
    "new_df_resi = new_df.copy()\n",
    "aver =  np.array(new_df_vol.T.mean()).reshape(-1,1)\n",
    "for name in new_df_vol.columns:\n",
    "    fit_y = new_df_vol[name]\n",
    "    fit_x = aver\n",
    "    regression_model = LinearRegression()\n",
    "    regression_model.fit(fit_x, fit_y)\n",
    "\n",
    "    # 计算拟合后的残差\n",
    "    residuals = fit_y - regression_model.predict(fit_x)\n",
    "    new_df_resi[name] = residuals"
   ]
  },
  {
   "cell_type": "code",
   "execution_count": 11,
   "metadata": {},
   "outputs": [
    {
     "data": {
      "image/png": "[encoded data removed]",
      "text/plain": [
       "<Figure size 432x288 with 1 Axes>"
      ]
     },
     "metadata": {
      "needs_background": "light"
     },
     "output_type": "display_data"
    },
    {
     "name": "stdout",
     "output_type": "stream",
     "text": [
      "0.1658711611195295\n"
     ]
    }
   ],
   "source": [
    "stocks = new_df_resi.columns\n",
    "corr_list_ = [0 for i in stocks]\n",
    "for i in range(len(stocks)):\n",
    "    corr_list = [abs(pearsonr(new_df_resi[stocks[i]],new_df_resi[stocks[j]])[0]) for j in range(len(stocks))]\n",
    "    (corr_list).sort(reverse= True)\n",
    "    for j in range(len(stocks)):\n",
    "        corr_list_[j] += corr_list[j]/len(stocks)\n",
    "plt.stem(range(len(stocks)-1), corr_list_[1:], linefmt='black', markerfmt='ko', basefmt='k-')\n",
    "ax = plt.gca()\n",
    "\n",
    "# 隐藏右边和上边的边框\n",
    "ax.spines['right'].set_color('none')\n",
    "ax.spines['top'].set_color('none')\n",
    "plt.xlabel('stock index')\n",
    "plt.ylabel('correlation')\n",
    "plt.ylim(0,1)\n",
    "plt.show()\n",
    "print(sum(corr_list_[1:])/(len(corr_list_)-1))"
   ]
  },
  {
   "cell_type": "code",
   "execution_count": 12,
   "metadata": {},
   "outputs": [
    {
     "data": {
      "image/png": "[encoded data removed]",
      "text/plain": [
       "<Figure size 720x360 with 1 Axes>"
      ]
     },
     "metadata": {
      "needs_background": "light"
     },
     "output_type": "display_data"
    }
   ],
   "source": [
    "import pandas as pd\n",
    "import matplotlib.pyplot as plt\n",
    "\n",
    "small_df = nas_100[nas_100['id']==test_names[1]].copy().dropna()\n",
    "series = pd.Series(small_df['volume'])\n",
    "\n",
    "autocorrelation = series.autocorr()\n",
    "\n",
    "# 计算不同滞后阶数的自相关系数\n",
    "lags = range(100)\n",
    "autocorrelations = [series.autocorr(lag) for lag in lags]\n",
    "\n",
    "plt.figure(figsize=(10, 5))\n",
    "plt.stem(lags, autocorrelations)\n",
    "plt.show()"
   ]
  },
  {
   "cell_type": "code",
   "execution_count": 15,
   "metadata": {},
   "outputs": [
    {
     "name": "stderr",
     "output_type": "stream",
     "text": [
      "  0%|          | 0/96 [00:00<?, ?it/s]"
     ]
    },
    {
     "name": "stderr",
     "output_type": "stream",
     "text": [
      "100%|██████████| 96/96 [00:07<00:00, 13.70it/s]\n"
     ]
    }
   ],
   "source": [
    "n = 150\n",
    "l_corr_list = [0 for i in range(n)]\n",
    "l_corr_list_ = [0 for i in range(n)]\n",
    "#bestname = new_df.columns\n",
    "test_names = bestname[:]\n",
    "\n",
    "for name in tqdm(test_names):\n",
    "    small_df = nas_100[nas_100['id']==name].copy().dropna()\n",
    "    series = pd.Series(small_df['vol'].fillna(0))\n",
    "\n",
    "    autocorrelation = series.autocorr()\n",
    "\n",
    "    # 计算不同滞后阶数的自相关系数\n",
    "    lags = range(n)\n",
    "    for lag in lags:\n",
    "        l_corr_list[lag] += series.autocorr(lag)/len(test_names)\n"
   ]
  },
  {
   "cell_type": "code",
   "execution_count": 16,
   "metadata": {},
   "outputs": [
    {
     "data": {
      "image/png": "[encoded data removed]",
      "text/plain": [
       "<Figure size 432x288 with 1 Axes>"
      ]
     },
     "metadata": {
      "needs_background": "light"
     },
     "output_type": "display_data"
    }
   ],
   "source": [
    "step = 3\n",
    "plt.stem(range(0,n,step), np.array(l_corr_list[::step]), linefmt='black', markerfmt='ko', basefmt='k-')\n",
    "ax = plt.gca()\n",
    "\n",
    "# 隐藏右边和上边的边框\n",
    "ax.spines['right'].set_color('none')\n",
    "ax.spines['top'].set_color('none')\n",
    "#plt.scatter(range(n), np.array(l_corr_list_),c='r')\n",
    "plt.xlabel(r'$ \\tau$/day')\n",
    "plt.ylabel('average correlation')\n",
    "#plt.title(r'relation between corr and $\\tau$')\n",
    "plt.show()"
   ]
  }
 ],
 "metadata": {
  "kernelspec": {
   "display_name": "base",
   "language": "python",
   "name": "python3"
  },
  "language_info": {
   "codemirror_mode": {
    "name": "ipython",
    "version": 3
   },
   "file_extension": ".py",
   "mimetype": "text/x-python",
   "name": "python",
   "nbconvert_exporter": "python",
   "pygments_lexer": "ipython3",
   "version": "3.9.12"
  }
 },
 "nbformat": 4,
 "nbformat_minor": 2
}
