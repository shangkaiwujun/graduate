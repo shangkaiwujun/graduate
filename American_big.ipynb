{
 "cells": [
  {
   "cell_type": "code",
   "execution_count": 1,
   "metadata": {},
   "outputs": [],
   "source": [
    "import numpy as np\n",
    "import pandas as pd\n",
    "from sklearn.linear_model import LinearRegression,Lasso,Ridge\n",
    "from sklearn.model_selection import KFold,TimeSeriesSplit\n",
    "from sklearn.metrics import mean_squared_error,r2_score\n",
    "from sklearn.preprocessing import StandardScaler\n",
    "import matplotlib.pyplot as plt\n",
    "import seaborn as sns\n",
    "from tqdm import  tqdm\n",
    "from scipy.stats import pearsonr\n",
    "pd.set_option('display.max_columns',None)"
   ]
  },
  {
   "cell_type": "code",
   "execution_count": 3,
   "metadata": {},
   "outputs": [],
   "source": [
    "nas_208 = pd.read_excel('nas208.xls', sheet_name=None)\n",
    "nas_208 = pd.concat(nas_208.values(), ignore_index=True).dropna()\n",
    "nas_208.columns=['id','name','date','open','close','high','low','return','return_percent','pre_close','volume','value']\n",
    "#nas_100.set_index('date',drop=True,inplace=True)"
   ]
  },
  {
   "cell_type": "code",
   "execution_count": 4,
   "metadata": {},
   "outputs": [],
   "source": [
    "nas_268 = pd.read_excel('nas268.xls', sheet_name=None)\n",
    "nas_268 = pd.concat(nas_268.values(), ignore_index=True).dropna()\n",
    "nas_268.columns=['id','name','date','open','close','high','low','return','return_percent','pre_close','volume','value']\n",
    "#nas_100.set_index('date',drop=True,inplace=True)"
   ]
  },
  {
   "cell_type": "code",
   "execution_count": 5,
   "metadata": {},
   "outputs": [],
   "source": [
    "nas_100 = pd.concat([nas_208, nas_268])"
   ]
  },
  {
   "cell_type": "code",
   "execution_count": 52,
   "metadata": {},
   "outputs": [
    {
     "data": {
      "text/html": [
       "<div>\n",
       "<style scoped>\n",
       "    .dataframe tbody tr th:only-of-type {\n",
       "        vertical-align: middle;\n",
       "    }\n",
       "\n",
       "    .dataframe tbody tr th {\n",
       "        vertical-align: top;\n",
       "    }\n",
       "\n",
       "    .dataframe thead th {\n",
       "        text-align: right;\n",
       "    }\n",
       "</style>\n",
       "<table border=\"1\" class=\"dataframe\">\n",
       "  <thead>\n",
       "    <tr style=\"text-align: right;\">\n",
       "      <th></th>\n",
       "      <th>id</th>\n",
       "      <th>name</th>\n",
       "      <th>date</th>\n",
       "      <th>open</th>\n",
       "      <th>close</th>\n",
       "      <th>high</th>\n",
       "      <th>low</th>\n",
       "      <th>return</th>\n",
       "      <th>return_percent</th>\n",
       "      <th>pre_close</th>\n",
       "      <th>volume</th>\n",
       "      <th>value</th>\n",
       "      <th>vol_</th>\n",
       "      <th>vol</th>\n",
       "    </tr>\n",
       "  </thead>\n",
       "  <tbody>\n",
       "    <tr>\n",
       "      <th>0</th>\n",
       "      <td>M.N</td>\n",
       "      <td>梅西百货</td>\n",
       "      <td>2019-03-22</td>\n",
       "      <td>23.99</td>\n",
       "      <td>23.31</td>\n",
       "      <td>24.01</td>\n",
       "      <td>23.26</td>\n",
       "      <td>-0.72</td>\n",
       "      <td>-2.9963</td>\n",
       "      <td>24.03</td>\n",
       "      <td>6627176.0</td>\n",
       "      <td>1.555844e+08</td>\n",
       "      <td>1.225933</td>\n",
       "      <td>1.502912</td>\n",
       "    </tr>\n",
       "    <tr>\n",
       "      <th>1</th>\n",
       "      <td>M.N</td>\n",
       "      <td>梅西百货</td>\n",
       "      <td>2019-03-25</td>\n",
       "      <td>23.35</td>\n",
       "      <td>23.86</td>\n",
       "      <td>24.18</td>\n",
       "      <td>23.19</td>\n",
       "      <td>0.55</td>\n",
       "      <td>2.3595</td>\n",
       "      <td>23.31</td>\n",
       "      <td>8751439.0</td>\n",
       "      <td>2.087891e+08</td>\n",
       "      <td>1.220318</td>\n",
       "      <td>1.489176</td>\n",
       "    </tr>\n",
       "    <tr>\n",
       "      <th>2</th>\n",
       "      <td>M.N</td>\n",
       "      <td>梅西百货</td>\n",
       "      <td>2019-03-26</td>\n",
       "      <td>24.07</td>\n",
       "      <td>23.93</td>\n",
       "      <td>24.49</td>\n",
       "      <td>23.69</td>\n",
       "      <td>0.07</td>\n",
       "      <td>0.2934</td>\n",
       "      <td>23.86</td>\n",
       "      <td>7720928.0</td>\n",
       "      <td>1.853274e+08</td>\n",
       "      <td>1.165415</td>\n",
       "      <td>1.358193</td>\n",
       "    </tr>\n",
       "    <tr>\n",
       "      <th>3</th>\n",
       "      <td>M.N</td>\n",
       "      <td>梅西百货</td>\n",
       "      <td>2019-03-27</td>\n",
       "      <td>23.91</td>\n",
       "      <td>24.33</td>\n",
       "      <td>24.48</td>\n",
       "      <td>23.83</td>\n",
       "      <td>0.40</td>\n",
       "      <td>1.6715</td>\n",
       "      <td>23.93</td>\n",
       "      <td>6943682.0</td>\n",
       "      <td>1.683754e+08</td>\n",
       "      <td>0.882388</td>\n",
       "      <td>0.778608</td>\n",
       "    </tr>\n",
       "    <tr>\n",
       "      <th>4</th>\n",
       "      <td>M.N</td>\n",
       "      <td>梅西百货</td>\n",
       "      <td>2019-03-28</td>\n",
       "      <td>24.53</td>\n",
       "      <td>24.19</td>\n",
       "      <td>24.69</td>\n",
       "      <td>24.19</td>\n",
       "      <td>-0.14</td>\n",
       "      <td>-0.5754</td>\n",
       "      <td>24.33</td>\n",
       "      <td>9196633.0</td>\n",
       "      <td>2.242112e+08</td>\n",
       "      <td>0.922474</td>\n",
       "      <td>0.850958</td>\n",
       "    </tr>\n",
       "    <tr>\n",
       "      <th>...</th>\n",
       "      <td>...</td>\n",
       "      <td>...</td>\n",
       "      <td>...</td>\n",
       "      <td>...</td>\n",
       "      <td>...</td>\n",
       "      <td>...</td>\n",
       "      <td>...</td>\n",
       "      <td>...</td>\n",
       "      <td>...</td>\n",
       "      <td>...</td>\n",
       "      <td>...</td>\n",
       "      <td>...</td>\n",
       "      <td>...</td>\n",
       "      <td>...</td>\n",
       "    </tr>\n",
       "    <tr>\n",
       "      <th>339010</th>\n",
       "      <td>LYG.N</td>\n",
       "      <td>劳埃德银行(US ADR)</td>\n",
       "      <td>2024-03-15</td>\n",
       "      <td>2.49</td>\n",
       "      <td>2.49</td>\n",
       "      <td>2.52</td>\n",
       "      <td>2.49</td>\n",
       "      <td>0.02</td>\n",
       "      <td>0.8097</td>\n",
       "      <td>2.47</td>\n",
       "      <td>6911573.0</td>\n",
       "      <td>1.731224e+07</td>\n",
       "      <td>NaN</td>\n",
       "      <td>NaN</td>\n",
       "    </tr>\n",
       "    <tr>\n",
       "      <th>339011</th>\n",
       "      <td>LYG.N</td>\n",
       "      <td>劳埃德银行(US ADR)</td>\n",
       "      <td>2024-03-18</td>\n",
       "      <td>2.49</td>\n",
       "      <td>2.50</td>\n",
       "      <td>2.50</td>\n",
       "      <td>2.47</td>\n",
       "      <td>0.01</td>\n",
       "      <td>0.4016</td>\n",
       "      <td>2.49</td>\n",
       "      <td>5591800.0</td>\n",
       "      <td>1.389635e+07</td>\n",
       "      <td>NaN</td>\n",
       "      <td>NaN</td>\n",
       "    </tr>\n",
       "    <tr>\n",
       "      <th>339012</th>\n",
       "      <td>LYG.N</td>\n",
       "      <td>劳埃德银行(US ADR)</td>\n",
       "      <td>2024-03-19</td>\n",
       "      <td>2.49</td>\n",
       "      <td>2.50</td>\n",
       "      <td>2.51</td>\n",
       "      <td>2.48</td>\n",
       "      <td>0.00</td>\n",
       "      <td>0.0000</td>\n",
       "      <td>2.50</td>\n",
       "      <td>6292737.0</td>\n",
       "      <td>1.568924e+07</td>\n",
       "      <td>NaN</td>\n",
       "      <td>NaN</td>\n",
       "    </tr>\n",
       "    <tr>\n",
       "      <th>339013</th>\n",
       "      <td>LYG.N</td>\n",
       "      <td>劳埃德银行(US ADR)</td>\n",
       "      <td>2024-03-20</td>\n",
       "      <td>2.50</td>\n",
       "      <td>2.55</td>\n",
       "      <td>2.57</td>\n",
       "      <td>2.49</td>\n",
       "      <td>0.05</td>\n",
       "      <td>2.0000</td>\n",
       "      <td>2.50</td>\n",
       "      <td>12674139.0</td>\n",
       "      <td>3.208173e+07</td>\n",
       "      <td>NaN</td>\n",
       "      <td>NaN</td>\n",
       "    </tr>\n",
       "    <tr>\n",
       "      <th>339014</th>\n",
       "      <td>LYG.N</td>\n",
       "      <td>劳埃德银行(US ADR)</td>\n",
       "      <td>2024-03-21</td>\n",
       "      <td>2.59</td>\n",
       "      <td>2.60</td>\n",
       "      <td>2.62</td>\n",
       "      <td>2.58</td>\n",
       "      <td>0.05</td>\n",
       "      <td>1.9608</td>\n",
       "      <td>2.55</td>\n",
       "      <td>18838166.0</td>\n",
       "      <td>4.896097e+07</td>\n",
       "      <td>NaN</td>\n",
       "      <td>NaN</td>\n",
       "    </tr>\n",
       "  </tbody>\n",
       "</table>\n",
       "<p>571051 rows × 14 columns</p>\n",
       "</div>"
      ],
      "text/plain": [
       "           id           name        date   open  close   high    low  return  \\\n",
       "0         M.N           梅西百货  2019-03-22  23.99  23.31  24.01  23.26   -0.72   \n",
       "1         M.N           梅西百货  2019-03-25  23.35  23.86  24.18  23.19    0.55   \n",
       "2         M.N           梅西百货  2019-03-26  24.07  23.93  24.49  23.69    0.07   \n",
       "3         M.N           梅西百货  2019-03-27  23.91  24.33  24.48  23.83    0.40   \n",
       "4         M.N           梅西百货  2019-03-28  24.53  24.19  24.69  24.19   -0.14   \n",
       "...       ...            ...         ...    ...    ...    ...    ...     ...   \n",
       "339010  LYG.N  劳埃德银行(US ADR)  2024-03-15   2.49   2.49   2.52   2.49    0.02   \n",
       "339011  LYG.N  劳埃德银行(US ADR)  2024-03-18   2.49   2.50   2.50   2.47    0.01   \n",
       "339012  LYG.N  劳埃德银行(US ADR)  2024-03-19   2.49   2.50   2.51   2.48    0.00   \n",
       "339013  LYG.N  劳埃德银行(US ADR)  2024-03-20   2.50   2.55   2.57   2.49    0.05   \n",
       "339014  LYG.N  劳埃德银行(US ADR)  2024-03-21   2.59   2.60   2.62   2.58    0.05   \n",
       "\n",
       "        return_percent  pre_close      volume         value      vol_  \\\n",
       "0              -2.9963      24.03   6627176.0  1.555844e+08  1.225933   \n",
       "1               2.3595      23.31   8751439.0  2.087891e+08  1.220318   \n",
       "2               0.2934      23.86   7720928.0  1.853274e+08  1.165415   \n",
       "3               1.6715      23.93   6943682.0  1.683754e+08  0.882388   \n",
       "4              -0.5754      24.33   9196633.0  2.242112e+08  0.922474   \n",
       "...                ...        ...         ...           ...       ...   \n",
       "339010          0.8097       2.47   6911573.0  1.731224e+07       NaN   \n",
       "339011          0.4016       2.49   5591800.0  1.389635e+07       NaN   \n",
       "339012          0.0000       2.50   6292737.0  1.568924e+07       NaN   \n",
       "339013          2.0000       2.50  12674139.0  3.208173e+07       NaN   \n",
       "339014          1.9608       2.55  18838166.0  4.896097e+07       NaN   \n",
       "\n",
       "             vol  \n",
       "0       1.502912  \n",
       "1       1.489176  \n",
       "2       1.358193  \n",
       "3       0.778608  \n",
       "4       0.850958  \n",
       "...          ...  \n",
       "339010       NaN  \n",
       "339011       NaN  \n",
       "339012       NaN  \n",
       "339013       NaN  \n",
       "339014       NaN  \n",
       "\n",
       "[571051 rows x 14 columns]"
      ]
     },
     "execution_count": 52,
     "metadata": {},
     "output_type": "execute_result"
    }
   ],
   "source": [
    "nas_100"
   ]
  },
  {
   "cell_type": "code",
   "execution_count": 7,
   "metadata": {},
   "outputs": [],
   "source": [
    "new_df = nas_100.pivot(index='date', columns='id', values='return_percent').fillna(0)"
   ]
  },
  {
   "cell_type": "code",
   "execution_count": 62,
   "metadata": {},
   "outputs": [],
   "source": [
    "length = 10\n",
    "\n",
    "nas_100['vol_'] = nas_100.groupby('id')['return_percent'].rolling(length).std().shift(-length).values\n",
    "nas_100['vol'] = nas_100['vol_']**2\n",
    "\n",
    "#nas_100['vol'] = (nas_100['pre_close']-nas_100['close'])**2"
   ]
  },
  {
   "cell_type": "code",
   "execution_count": 65,
   "metadata": {},
   "outputs": [],
   "source": [
    "def feature_cal(df):\n",
    "    #return ((df['close']+df['close'])-(df['high']+df['low']))/df['close'].fillna(0)\n",
    "    return df['volume']#.diff().fillna(0)\n",
    "    #return df['return_percent'].rolling(length).std().diff().fillna(0)\n",
    "    #return (df['return_percent'])"
   ]
  },
  {
   "cell_type": "code",
   "execution_count": 66,
   "metadata": {},
   "outputs": [
    {
     "name": "stderr",
     "output_type": "stream",
     "text": [
      "  0%|          | 0/460 [00:00<?, ?it/s]"
     ]
    },
    {
     "name": "stderr",
     "output_type": "stream",
     "text": [
      "100%|██████████| 460/460 [00:12<00:00, 35.51it/s]\n"
     ]
    },
    {
     "data": {
      "text/plain": [
       "215"
      ]
     },
     "execution_count": 66,
     "metadata": {},
     "output_type": "execute_result"
    }
   ],
   "source": [
    "s = 0\n",
    "bestname = []\n",
    "for name in tqdm(new_df.columns[:]):\n",
    "    small_df = nas_100[nas_100['id']==name].copy().dropna()\n",
    "    feature = np.abs(feature_cal(small_df))\n",
    "    corr = pearsonr(feature[:-1], small_df['vol'].shift(-1)[:-1])\n",
    "    if (corr[1]) < 0.05:\n",
    "        bestname.append(name)\n",
    "    \n",
    "len(bestname)"
   ]
  },
  {
   "cell_type": "code",
   "execution_count": 67,
   "metadata": {},
   "outputs": [
    {
     "name": "stderr",
     "output_type": "stream",
     "text": [
      "  0%|          | 0/215 [00:00<?, ?it/s]"
     ]
    },
    {
     "name": "stderr",
     "output_type": "stream",
     "text": [
      "100%|██████████| 215/215 [00:21<00:00, 10.06it/s]\n"
     ]
    },
    {
     "data": {
      "image/png": "[encoded data removed]",
      "text/plain": [
       "<Figure size 432x288 with 1 Axes>"
      ]
     },
     "metadata": {
      "needs_background": "light"
     },
     "output_type": "display_data"
    }
   ],
   "source": [
    "n = 200\n",
    "l_corr_list = [0 for i in range(n)]\n",
    "l_corr_list_ = [0 for i in range(n)]\n",
    "#bestname = new_df.columns\n",
    "test_names = bestname[:]\n",
    "\n",
    "for name in tqdm(test_names):\n",
    "    small_df = nas_100[nas_100['id']==name].copy().dropna()\n",
    "    feature = np.abs(feature_cal(small_df))\n",
    "    for i in range(1, n+1):\n",
    "        try:\n",
    "            pear = pearsonr(feature[:-i:3], small_df['vol'].shift(-i).fillna(0)[:-i:3])\n",
    "        except ValueError:\n",
    "            pear = (0, 1)\n",
    "        l_corr_list[i-1] += (pear[0]*(pear[1]<0.05))/len(test_names)\n",
    "        l_corr_list_[i-1] += (pear[0])/len(test_names)\n",
    "\n",
    "plt.stem(range(n), np.array(l_corr_list))\n",
    "#plt.scatter(range(n), np.array(l_corr_list_),c='r')\n",
    "plt.xlabel(r'$ \\tau$')\n",
    "plt.ylabel('average correlation')\n",
    "plt.title(r'relation between corr and $\\tau$')\n",
    "plt.show()"
   ]
  },
  {
   "cell_type": "code",
   "execution_count": 57,
   "metadata": {},
   "outputs": [
    {
     "data": {
      "image/png": "[encoded data removed]",
      "text/plain": [
       "<Figure size 432x288 with 1 Axes>"
      ]
     },
     "metadata": {
      "needs_background": "light"
     },
     "output_type": "display_data"
    }
   ],
   "source": [
    "step = 3\n",
    "plt.stem(range(0,n,step), np.array(l_corr_list[::step]))\n",
    "#plt.scatter(range(n), np.array(l_corr_list_),c='r')\n",
    "plt.xlabel(r'$ \\tau$')\n",
    "plt.ylabel('average correlation')\n",
    "#plt.title(r'relation between corr and $\\tau$')\n",
    "plt.show()"
   ]
  },
  {
   "cell_type": "code",
   "execution_count": 13,
   "metadata": {},
   "outputs": [],
   "source": [
    "new_df_vol = nas_100.pivot(index='date', columns='id', values='vol').fillna(0)\n",
    "new_df_resi = new_df.copy()\n",
    "aver =  np.array(new_df.T.mean()).reshape(-1,1)\n",
    "for name in new_df_vol.columns:\n",
    "    fit_y = new_df_vol[name]\n",
    "    fit_x = aver\n",
    "    regression_model = LinearRegression()\n",
    "    regression_model.fit(fit_x, fit_y)\n",
    "\n",
    "    # 计算拟合后的残差\n",
    "    residuals = fit_y - regression_model.predict(fit_x)\n",
    "    new_df_resi[name] = residuals"
   ]
  },
  {
   "cell_type": "code",
   "execution_count": 41,
   "metadata": {},
   "outputs": [
    {
     "data": {
      "text/plain": [
       "<StemContainer object of 3 artists>"
      ]
     },
     "execution_count": 41,
     "metadata": {},
     "output_type": "execute_result"
    },
    {
     "data": {
      "image/png": "[encoded data removed]",
      "text/plain": [
       "<Figure size 432x288 with 1 Axes>"
      ]
     },
     "metadata": {
      "needs_background": "light"
     },
     "output_type": "display_data"
    }
   ],
   "source": [
    "stocks = new_df_resi.columns\n",
    "corr_list = [abs(pearsonr(new_df_resi[stocks[0]],new_df_resi[stocks[i]])[0]) for i in range(1,len(stocks))]\n",
    "\n",
    "(corr_list).sort(reverse= True)\n",
    "plt.stem(range(len(stocks)-1), corr_list)"
   ]
  },
  {
   "cell_type": "code",
   "execution_count": 15,
   "metadata": {},
   "outputs": [
    {
     "name": "stderr",
     "output_type": "stream",
     "text": [
      "100%|██████████| 459/459 [00:25<00:00, 18.00it/s]\n"
     ]
    },
    {
     "data": {
      "image/png": "[encoded data removed]",
      "text/plain": [
       "<Figure size 432x288 with 1 Axes>"
      ]
     },
     "metadata": {
      "needs_background": "light"
     },
     "output_type": "display_data"
    }
   ],
   "source": [
    "n = 400\n",
    "step = 3\n",
    "l_corr_list = [0 for i in range(0,n,step)]\n",
    "#bestname = new_df.columns\n",
    "test_names = bestname[:]\n",
    "\n",
    "for name in tqdm(test_names):\n",
    "    small_df = nas_100[nas_100['id']==name].copy().dropna()\n",
    "    feature = np.abs(feature_cal(small_df))\n",
    "    \n",
    "    X = np.array([feature.shift(j).fillna(0) for j in range(0,n,step)]).T\n",
    "    Y = small_df['vol'].shift(-1).diff().fillna(0)\n",
    "    model = LinearRegression()\n",
    "    model.fit(X, Y)\n",
    "    for i in range(len(l_corr_list)):\n",
    "        l_corr_list[i] += model.coef_[i]#/np.sqrt(Y.std())*np.sqrt(X[i].std())\n",
    "    # l_corr_list[i-1] += (pearsonr(feature[:-i], small_df['vol'].rolling(10).sum().shift(-i)[:-i].fillna(0))[0])/len(bestname)\n",
    "\n",
    "plt.plot(range(0,n,step), np.array(l_corr_list))\n",
    "plt.xlabel(r'$ \\tau$')\n",
    "plt.ylabel('average correlation')\n",
    "plt.title(r'relation between corr and $\\tau$')\n",
    "plt.show()"
   ]
  },
  {
   "cell_type": "code",
   "execution_count": 16,
   "metadata": {},
   "outputs": [
    {
     "name": "stderr",
     "output_type": "stream",
     "text": [
      "  0%|          | 0/459 [00:00<?, ?it/s]"
     ]
    },
    {
     "name": "stderr",
     "output_type": "stream",
     "text": [
      "100%|██████████| 459/459 [00:23<00:00, 19.38it/s]\n"
     ]
    },
    {
     "data": {
      "image/png": "[encoded data removed]",
      "text/plain": [
       "<Figure size 432x288 with 1 Axes>"
      ]
     },
     "metadata": {
      "needs_background": "light"
     },
     "output_type": "display_data"
    }
   ],
   "source": [
    "n = 100\n",
    "l_corr_list = [0 for i in range(n)]\n",
    "l_corr_list_ = [0 for i in range(n)]\n",
    "#bestname = new_df.columns\n",
    "test_names = bestname[:]\n",
    "\n",
    "for name in tqdm(test_names):\n",
    "    small_df = nas_100[nas_100['id']==name].copy().dropna()\n",
    "    feature = np.abs(feature_cal(small_df))\n",
    "    for i in range(1, n+1):\n",
    "        try:\n",
    "            pear = pearsonr(feature[:-i:3], small_df['volume'].shift(-i)[:-i:3])\n",
    "        except ValueError:\n",
    "            pear = (0, 1)\n",
    "        l_corr_list[i-1] += (pear[0]*(pear[1]<0.05))/len(test_names)\n",
    "        l_corr_list_[i-1] += (pear[0])/len(test_names)\n",
    "\n",
    "plt.plot(range(n), np.array(l_corr_list))\n",
    "plt.scatter(range(n), np.array(l_corr_list_),c='r')\n",
    "plt.xlabel(r'$ \\tau$')\n",
    "plt.ylabel('average correlation')\n",
    "plt.title(r'relation between corr and $\\tau$')\n",
    "plt.show()"
   ]
  },
  {
   "cell_type": "code",
   "execution_count": 17,
   "metadata": {},
   "outputs": [
    {
     "data": {
      "image/png": "[encoded data removed]",
      "text/plain": [
       "<Figure size 720x360 with 1 Axes>"
      ]
     },
     "metadata": {
      "needs_background": "light"
     },
     "output_type": "display_data"
    }
   ],
   "source": [
    "import pandas as pd\n",
    "import matplotlib.pyplot as plt\n",
    "\n",
    "small_df = nas_100[nas_100['id']==test_names[1]].copy().dropna()\n",
    "series = pd.Series(small_df['volume'])\n",
    "\n",
    "autocorrelation = series.autocorr()\n",
    "\n",
    "# 计算不同滞后阶数的自相关系数\n",
    "lags = range(100)\n",
    "autocorrelations = [series.autocorr(lag) for lag in lags]\n",
    "\n",
    "plt.figure(figsize=(10, 5))\n",
    "plt.stem(lags, autocorrelations)\n",
    "plt.show()"
   ]
  },
  {
   "cell_type": "code",
   "execution_count": 18,
   "metadata": {},
   "outputs": [
    {
     "name": "stderr",
     "output_type": "stream",
     "text": [
      "100%|██████████| 459/459 [00:25<00:00, 18.21it/s]\n"
     ]
    },
    {
     "data": {
      "image/png": "[encoded data removed]",
      "text/plain": [
       "<Figure size 432x288 with 1 Axes>"
      ]
     },
     "metadata": {
      "needs_background": "light"
     },
     "output_type": "display_data"
    }
   ],
   "source": [
    "n = 100\n",
    "l_corr_list = [0 for i in range(n)]\n",
    "l_corr_list_ = [0 for i in range(n)]\n",
    "#bestname = new_df.columns\n",
    "test_names = bestname[:]\n",
    "\n",
    "for name in tqdm(test_names):\n",
    "    small_df = nas_100[nas_100['id']==name].copy().dropna()\n",
    "    series = pd.Series(small_df['vol'].fillna(0))\n",
    "\n",
    "    autocorrelation = series.autocorr()\n",
    "\n",
    "    # 计算不同滞后阶数的自相关系数\n",
    "    lags = range(n)\n",
    "    for lag in lags:\n",
    "        l_corr_list[lag] += series.autocorr(lag)/len(test_names)\n",
    "\n",
    "plt.stem(range(n), np.array(l_corr_list))\n",
    "#plt.scatter(range(n), np.array(l_corr_list_),c='r')\n",
    "plt.xlabel(r'lag')\n",
    "plt.ylabel('auto-correlation')\n",
    "#plt.title(r'auto')\n",
    "plt.show()"
   ]
  },
  {
   "cell_type": "code",
   "execution_count": null,
   "metadata": {},
   "outputs": [],
   "source": []
  },
  {
   "cell_type": "code",
   "execution_count": 73,
   "metadata": {},
   "outputs": [],
   "source": [
    "new_df_vol = nas_100.pivot(index='date', columns='id', values='vol').fillna(0)\n",
    "new_df_resi = new_df_vol.copy()\n",
    "aver =  np.array(new_df.T.mean()).reshape(-1,1)\n",
    "for name in new_df_vol.columns:\n",
    "    fit_y = new_df_vol[name]\n",
    "    fit_x = aver\n",
    "    regression_model = LinearRegression()\n",
    "    regression_model.fit(fit_x, fit_y)\n",
    "\n",
    "    # 计算拟合后的残差\n",
    "    residuals = fit_y - regression_model.predict(fit_x)\n",
    "    new_df_resi[name] = residuals"
   ]
  },
  {
   "cell_type": "code",
   "execution_count": 74,
   "metadata": {},
   "outputs": [
    {
     "data": {
      "image/png": "[encoded data removed]",
      "text/plain": [
       "<Figure size 432x288 with 1 Axes>"
      ]
     },
     "metadata": {
      "needs_background": "light"
     },
     "output_type": "display_data"
    },
    {
     "name": "stdout",
     "output_type": "stream",
     "text": [
      "0.08043360587708062\n"
     ]
    }
   ],
   "source": [
    "stocks = new_df_resi.columns\n",
    "corr_list_ = [0 for i in stocks]\n",
    "for i in range(len(stocks)):\n",
    "    corr_list = [abs(pearsonr(new_df_resi[stocks[i]],new_df_resi[stocks[j]])[0]) for j in range(len(stocks))]\n",
    "    (corr_list).sort(reverse= True)\n",
    "    for j in range(len(stocks)):\n",
    "        corr_list_[j] += corr_list[j]/len(stocks)\n",
    "plt.stem(range(len(stocks)-1), corr_list_[1:])\n",
    "plt.xlabel('stock index')\n",
    "plt.ylabel('correlation')\n",
    "plt.ylim(0,1)\n",
    "plt.show()\n",
    "print(sum(corr_list_[1:])/(len(corr_list_)-1))"
   ]
  },
  {
   "cell_type": "code",
   "execution_count": null,
   "metadata": {},
   "outputs": [],
   "source": []
  }
 ],
 "metadata": {
  "kernelspec": {
   "display_name": "base",
   "language": "python",
   "name": "python3"
  },
  "language_info": {
   "codemirror_mode": {
    "name": "ipython",
    "version": 3
   },
   "file_extension": ".py",
   "mimetype": "text/x-python",
   "name": "python",
   "nbconvert_exporter": "python",
   "pygments_lexer": "ipython3",
   "version": "3.9.12"
  }
 },
 "nbformat": 4,
 "nbformat_minor": 2
}
