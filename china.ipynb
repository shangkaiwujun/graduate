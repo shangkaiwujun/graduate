{
 "cells": [
  {
   "cell_type": "code",
   "execution_count": 1,
   "metadata": {},
   "outputs": [],
   "source": [
    "import numpy as np\n",
    "import pandas as pd\n",
    "from sklearn.linear_model import LinearRegression,Lasso,Ridge\n",
    "from sklearn.model_selection import KFold,TimeSeriesSplit\n",
    "from sklearn.metrics import mean_squared_error,r2_score\n",
    "from sklearn.preprocessing import StandardScaler\n",
    "import matplotlib.pyplot as plt\n",
    "import seaborn as sns\n",
    "from tqdm import  tqdm\n",
    "from scipy.stats import pearsonr\n",
    "pd.set_option('display.max_columns',None)"
   ]
  },
  {
   "cell_type": "code",
   "execution_count": 2,
   "metadata": {},
   "outputs": [],
   "source": [
    "df_list = pd.read_excel('hs300.xls', sheet_name=None, header=0)\n",
    "df = pd.concat(df_list.values(), ignore_index=True).dropna().reset_index(drop=True)\n",
    "df_list = []\n",
    "df.columns=['id','name','date','open','close','high','low','return','return_percent','pre_close','vwap','volume','value','turnover']\n",
    "df.replace('--',0,inplace=True)"
   ]
  },
  {
   "cell_type": "code",
   "execution_count": 3,
   "metadata": {},
   "outputs": [],
   "source": [
    "df_sh300 = pd.read_excel('000300.xls').dropna()\n",
    "df_sh300.columns=['id','name','date','open','close','high','low','return','return_percent','pre_close']\n",
    "df_sh300.set_index('date',drop=True,inplace=True)"
   ]
  },
  {
   "cell_type": "code",
   "execution_count": 4,
   "metadata": {},
   "outputs": [],
   "source": [
    "new_df = df.pivot(index='date', columns='id', values='return_percent').fillna(0)"
   ]
  },
  {
   "cell_type": "code",
   "execution_count": 5,
   "metadata": {},
   "outputs": [
    {
     "data": {
      "text/html": [
       "<div>\n",
       "<style scoped>\n",
       "    .dataframe tbody tr th:only-of-type {\n",
       "        vertical-align: middle;\n",
       "    }\n",
       "\n",
       "    .dataframe tbody tr th {\n",
       "        vertical-align: top;\n",
       "    }\n",
       "\n",
       "    .dataframe thead th {\n",
       "        text-align: right;\n",
       "    }\n",
       "</style>\n",
       "<table border=\"1\" class=\"dataframe\">\n",
       "  <thead>\n",
       "    <tr style=\"text-align: right;\">\n",
       "      <th></th>\n",
       "      <th>id</th>\n",
       "      <th>name</th>\n",
       "      <th>open</th>\n",
       "      <th>close</th>\n",
       "      <th>high</th>\n",
       "      <th>low</th>\n",
       "      <th>return</th>\n",
       "      <th>return_percent</th>\n",
       "      <th>pre_close</th>\n",
       "    </tr>\n",
       "    <tr>\n",
       "      <th>date</th>\n",
       "      <th></th>\n",
       "      <th></th>\n",
       "      <th></th>\n",
       "      <th></th>\n",
       "      <th></th>\n",
       "      <th></th>\n",
       "      <th></th>\n",
       "      <th></th>\n",
       "      <th></th>\n",
       "    </tr>\n",
       "  </thead>\n",
       "  <tbody>\n",
       "    <tr>\n",
       "      <th>2018-11-12</th>\n",
       "      <td>000300.SH</td>\n",
       "      <td>沪深300</td>\n",
       "      <td>3160.246</td>\n",
       "      <td>3205.1407</td>\n",
       "      <td>3206.512</td>\n",
       "      <td>3152.439</td>\n",
       "      <td>37.6965</td>\n",
       "      <td>1.1901</td>\n",
       "      <td>3167.4442</td>\n",
       "    </tr>\n",
       "    <tr>\n",
       "      <th>2018-11-13</th>\n",
       "      <td>000300.SH</td>\n",
       "      <td>沪深300</td>\n",
       "      <td>3164.922</td>\n",
       "      <td>3237.3823</td>\n",
       "      <td>3254.768</td>\n",
       "      <td>3161.097</td>\n",
       "      <td>32.2416</td>\n",
       "      <td>1.0059</td>\n",
       "      <td>3205.1407</td>\n",
       "    </tr>\n",
       "    <tr>\n",
       "      <th>2018-11-14</th>\n",
       "      <td>000300.SH</td>\n",
       "      <td>沪深300</td>\n",
       "      <td>3233.640</td>\n",
       "      <td>3204.9427</td>\n",
       "      <td>3239.244</td>\n",
       "      <td>3200.228</td>\n",
       "      <td>-32.4396</td>\n",
       "      <td>-1.0020</td>\n",
       "      <td>3237.3823</td>\n",
       "    </tr>\n",
       "    <tr>\n",
       "      <th>2018-11-15</th>\n",
       "      <td>000300.SH</td>\n",
       "      <td>沪深300</td>\n",
       "      <td>3201.281</td>\n",
       "      <td>3242.3715</td>\n",
       "      <td>3242.383</td>\n",
       "      <td>3198.781</td>\n",
       "      <td>37.4288</td>\n",
       "      <td>1.1678</td>\n",
       "      <td>3204.9427</td>\n",
       "    </tr>\n",
       "    <tr>\n",
       "      <th>2018-11-16</th>\n",
       "      <td>000300.SH</td>\n",
       "      <td>沪深300</td>\n",
       "      <td>3242.879</td>\n",
       "      <td>3257.6735</td>\n",
       "      <td>3282.390</td>\n",
       "      <td>3223.721</td>\n",
       "      <td>15.3020</td>\n",
       "      <td>0.4719</td>\n",
       "      <td>3242.3715</td>\n",
       "    </tr>\n",
       "  </tbody>\n",
       "</table>\n",
       "</div>"
      ],
      "text/plain": [
       "                   id   name      open      close      high       low  \\\n",
       "date                                                                    \n",
       "2018-11-12  000300.SH  沪深300  3160.246  3205.1407  3206.512  3152.439   \n",
       "2018-11-13  000300.SH  沪深300  3164.922  3237.3823  3254.768  3161.097   \n",
       "2018-11-14  000300.SH  沪深300  3233.640  3204.9427  3239.244  3200.228   \n",
       "2018-11-15  000300.SH  沪深300  3201.281  3242.3715  3242.383  3198.781   \n",
       "2018-11-16  000300.SH  沪深300  3242.879  3257.6735  3282.390  3223.721   \n",
       "\n",
       "             return  return_percent  pre_close  \n",
       "date                                            \n",
       "2018-11-12  37.6965          1.1901  3167.4442  \n",
       "2018-11-13  32.2416          1.0059  3205.1407  \n",
       "2018-11-14 -32.4396         -1.0020  3237.3823  \n",
       "2018-11-15  37.4288          1.1678  3204.9427  \n",
       "2018-11-16  15.3020          0.4719  3242.3715  "
      ]
     },
     "execution_count": 5,
     "metadata": {},
     "output_type": "execute_result"
    }
   ],
   "source": [
    "df_sh300.head()"
   ]
  },
  {
   "cell_type": "markdown",
   "metadata": {},
   "source": [
    "# 个股平均"
   ]
  },
  {
   "cell_type": "code",
   "execution_count": 6,
   "metadata": {},
   "outputs": [],
   "source": [
    "def feature_cal(df):\n",
    "    return ((df['vwap']+df['vwap'])-(df['high']+df['low']))/df['close'].fillna(0)"
   ]
  },
  {
   "cell_type": "code",
   "execution_count": 7,
   "metadata": {},
   "outputs": [
    {
     "name": "stderr",
     "output_type": "stream",
     "text": [
      "  0%|          | 0/300 [00:00<?, ?it/s]"
     ]
    },
    {
     "name": "stderr",
     "output_type": "stream",
     "text": [
      "100%|██████████| 300/300 [00:07<00:00, 40.99it/s]\n"
     ]
    },
    {
     "data": {
      "text/plain": [
       "15"
      ]
     },
     "execution_count": 7,
     "metadata": {},
     "output_type": "execute_result"
    }
   ],
   "source": [
    "s = 0\n",
    "bestname = []\n",
    "for name in tqdm(new_df.columns[:]):\n",
    "    small_df = df[df['id']==name].copy()\n",
    "    feature = feature_cal(small_df)\n",
    "    corr = pearsonr(feature, small_df['return_percent'].shift(-1).fillna(0))[1]\n",
    "    if (corr) < 0.001:\n",
    "        bestname.append(name)\n",
    "    \n",
    "len(bestname)"
   ]
  },
  {
   "cell_type": "code",
   "execution_count": 8,
   "metadata": {},
   "outputs": [
    {
     "name": "stderr",
     "output_type": "stream",
     "text": [
      "  0%|          | 0/15 [00:00<?, ?it/s]"
     ]
    },
    {
     "name": "stderr",
     "output_type": "stream",
     "text": [
      "100%|██████████| 15/15 [00:00<00:00, 25.46it/s]\n"
     ]
    },
    {
     "data": {
      "image/png": "[encoded data removed]",
      "text/plain": [
       "<Figure size 432x288 with 1 Axes>"
      ]
     },
     "metadata": {
      "needs_background": "light"
     },
     "output_type": "display_data"
    }
   ],
   "source": [
    "n = 40\n",
    "l_corr_list = [0 for i in range(n)]\n",
    "name_list = ['601988.SH']\n",
    "name_list = new_df.columns[:]\n",
    "name_list = bestname\n",
    "\n",
    "for name in tqdm(name_list):\n",
    "    small_df = df[df['id']==name].copy()\n",
    "    feature = feature_cal(small_df)\n",
    "    for i in range(1, n+1):\n",
    "        l_corr_list[i-1] += (pearsonr(feature, small_df['return_percent'].shift(-i).fillna(0))[0])/len(name_list)\n",
    "\n",
    "plt.stem(range(n), np.array(l_corr_list))\n",
    "plt.xlabel('delay')\n",
    "plt.ylabel('abs_average_corr')\n",
    "plt.show()"
   ]
  },
  {
   "cell_type": "code",
   "execution_count": 9,
   "metadata": {},
   "outputs": [
    {
     "data": {
      "image/png": "[encoded data removed]",
      "text/plain": [
       "<Figure size 720x360 with 1 Axes>"
      ]
     },
     "metadata": {
      "needs_background": "light"
     },
     "output_type": "display_data"
    }
   ],
   "source": [
    "import pandas as pd\n",
    "import matplotlib.pyplot as plt\n",
    "\n",
    "series = pd.Series(df_sh300['return_percent'])\n",
    "\n",
    "autocorrelation = series.autocorr()\n",
    "\n",
    "# 计算不同滞后阶数的自相关系数\n",
    "lags = range(40)\n",
    "autocorrelations = [series.autocorr(lag) for lag in lags]\n",
    "\n",
    "plt.figure(figsize=(10, 5))\n",
    "plt.stem(lags, autocorrelations)\n",
    "plt.show()"
   ]
  },
  {
   "cell_type": "markdown",
   "metadata": {},
   "source": [
    "# 和vol之间的联系"
   ]
  },
  {
   "cell_type": "code",
   "execution_count": 10,
   "metadata": {},
   "outputs": [],
   "source": [
    "new_df = df.pivot(index='date', columns='id', values='return_percent').fillna(0)"
   ]
  },
  {
   "cell_type": "code",
   "execution_count": 11,
   "metadata": {},
   "outputs": [],
   "source": [
    "def feature_cal(df):\n",
    "    #return ((df['vwap']+df['vwap'])-(df['high']+df['low']))/df['close'].fillna(0)\n",
    "    # return (df['volume']).diff().fillna(0)\n",
    "    # return df['return_percent'].rolling(10).std().fillna(0)\n",
    "    return df['return_percent']"
   ]
  },
  {
   "cell_type": "code",
   "execution_count": 12,
   "metadata": {},
   "outputs": [],
   "source": [
    "length = 10\n",
    "\n",
    "df['vol_30'] = df.groupby('id')['return_percent'].rolling(length).std().shift(-length).values\n",
    "df['vol'] = df['vol_30']**2\n",
    "\n",
    "#df['vol'] = df['return_percent']**2"
   ]
  },
  {
   "cell_type": "code",
   "execution_count": 13,
   "metadata": {},
   "outputs": [
    {
     "name": "stderr",
     "output_type": "stream",
     "text": [
      "100%|██████████| 300/300 [00:07<00:00, 41.97it/s]\n"
     ]
    },
    {
     "data": {
      "text/plain": [
       "277"
      ]
     },
     "execution_count": 13,
     "metadata": {},
     "output_type": "execute_result"
    }
   ],
   "source": [
    "s = 0\n",
    "bestname = []\n",
    "for name in tqdm(new_df.columns[:]):\n",
    "    small_df = df[df['id']==name].copy().dropna()\n",
    "    feature = np.abs(feature_cal(small_df))\n",
    "    corr = pearsonr(feature[:-1], small_df['vol'].shift(-1)[:-1])\n",
    "    if (corr[1]) < 0.05:\n",
    "        bestname.append(name)\n",
    "    \n",
    "len(bestname)"
   ]
  },
  {
   "cell_type": "code",
   "execution_count": 14,
   "metadata": {},
   "outputs": [
    {
     "name": "stderr",
     "output_type": "stream",
     "text": [
      "  0%|          | 0/277 [00:00<?, ?it/s]"
     ]
    },
    {
     "name": "stderr",
     "output_type": "stream",
     "text": [
      "100%|██████████| 277/277 [00:21<00:00, 12.70it/s]\n"
     ]
    }
   ],
   "source": [
    "n = 200\n",
    "l_corr_list = [0 for i in range(n)]\n",
    "l_corr_list_ = [0 for i in range(n)]\n",
    "#bestname = new_df.columns\n",
    "test_names = bestname[:]\n",
    "\n",
    "for name in tqdm(test_names):\n",
    "    small_df = df[df['id']==name].copy().dropna()\n",
    "    feature = np.abs(feature_cal(small_df))\n",
    "    for i in range(1, n+1):\n",
    "        try:\n",
    "            pear = pearsonr(feature[:-i:3], small_df['vol'].shift(-i)[:-i:3])\n",
    "        except ValueError:\n",
    "            pear = (0, 1)\n",
    "        l_corr_list[i-1] += (pear[0]*(pear[1]<0.05))/len(test_names)\n",
    "        l_corr_list_[i-1] += (pear[0])/len(test_names)\n"
   ]
  },
  {
   "cell_type": "code",
   "execution_count": 15,
   "metadata": {},
   "outputs": [
    {
     "data": {
      "image/png": "[encoded data removed]",
      "text/plain": [
       "<Figure size 432x288 with 1 Axes>"
      ]
     },
     "metadata": {
      "needs_background": "light"
     },
     "output_type": "display_data"
    }
   ],
   "source": [
    "step = 3\n",
    "plt.stem(range(0,n,step), np.array(l_corr_list[::step]), linefmt='black', markerfmt='ko', basefmt='k-')\n",
    "ax = plt.gca()\n",
    "\n",
    "# 隐藏右边和上边的边框\n",
    "ax.spines['right'].set_color('none')\n",
    "ax.spines['top'].set_color('none')\n",
    "#plt.scatter(range(n), np.array(l_corr_list_),c='r')\n",
    "plt.xlabel(r'$ \\tau$/day')\n",
    "plt.ylabel('average correlation')\n",
    "#plt.title(r'relation between corr and $\\tau$')\n",
    "plt.show()"
   ]
  },
  {
   "cell_type": "markdown",
   "metadata": {},
   "source": [
    "# 股票corr"
   ]
  },
  {
   "cell_type": "code",
   "execution_count": 17,
   "metadata": {},
   "outputs": [],
   "source": [
    "new_df_vol = df.pivot(index='date', columns='id', values='vol').fillna(0)\n",
    "new_df_resi = new_df.copy()\n",
    "aver =  np.array(new_df_vol.T.mean()).reshape(-1,1)\n",
    "for name in new_df_vol.columns:\n",
    "    fit_y = new_df_vol[name]\n",
    "    fit_x = aver\n",
    "    regression_model = LinearRegression()\n",
    "    regression_model.fit(fit_x, fit_y)\n",
    "\n",
    "    # 计算拟合后的残差\n",
    "    residuals = fit_y# - regression_model.predict(fit_x)\n",
    "    new_df_resi[name] = residuals"
   ]
  },
  {
   "cell_type": "code",
   "execution_count": 18,
   "metadata": {},
   "outputs": [
    {
     "data": {
      "image/png": "[encoded data removed]",
      "text/plain": [
       "<Figure size 432x288 with 1 Axes>"
      ]
     },
     "metadata": {
      "needs_background": "light"
     },
     "output_type": "display_data"
    },
    {
     "name": "stdout",
     "output_type": "stream",
     "text": [
      "0.2192817148829374\n"
     ]
    }
   ],
   "source": [
    "stocks = new_df_resi.columns\n",
    "corr_list_ = [0 for i in stocks]\n",
    "for i in range(len(stocks)):\n",
    "    corr_list = [abs(pearsonr(new_df_resi[stocks[i]],new_df_resi[stocks[j]])[0]) for j in range(len(stocks))]\n",
    "    (corr_list).sort(reverse= True)\n",
    "    for j in range(len(stocks)):\n",
    "        corr_list_[j] += corr_list[j]/len(stocks)\n",
    "plt.stem(range(len(stocks)-1), corr_list_[1:], linefmt='black', markerfmt='ko', basefmt='k-')\n",
    "ax = plt.gca()\n",
    "\n",
    "# 隐藏右边和上边的边框\n",
    "ax.spines['right'].set_color('none')\n",
    "ax.spines['top'].set_color('none')\n",
    "plt.xlabel('stock index')\n",
    "plt.ylabel('correlation')\n",
    "plt.ylim(0,1)\n",
    "plt.show()\n",
    "print(sum(corr_list_[1:])/(len(corr_list_)-1))"
   ]
  },
  {
   "cell_type": "markdown",
   "metadata": {},
   "source": [
    "# 沪深300"
   ]
  },
  {
   "cell_type": "code",
   "execution_count": 19,
   "metadata": {},
   "outputs": [
    {
     "data": {
      "text/html": [
       "<div>\n",
       "<style scoped>\n",
       "    .dataframe tbody tr th:only-of-type {\n",
       "        vertical-align: middle;\n",
       "    }\n",
       "\n",
       "    .dataframe tbody tr th {\n",
       "        vertical-align: top;\n",
       "    }\n",
       "\n",
       "    .dataframe thead th {\n",
       "        text-align: right;\n",
       "    }\n",
       "</style>\n",
       "<table border=\"1\" class=\"dataframe\">\n",
       "  <thead>\n",
       "    <tr style=\"text-align: right;\">\n",
       "      <th></th>\n",
       "      <th>id</th>\n",
       "      <th>name</th>\n",
       "      <th>open</th>\n",
       "      <th>close</th>\n",
       "      <th>high</th>\n",
       "      <th>low</th>\n",
       "      <th>return</th>\n",
       "      <th>return_percent</th>\n",
       "      <th>pre_close</th>\n",
       "    </tr>\n",
       "    <tr>\n",
       "      <th>date</th>\n",
       "      <th></th>\n",
       "      <th></th>\n",
       "      <th></th>\n",
       "      <th></th>\n",
       "      <th></th>\n",
       "      <th></th>\n",
       "      <th></th>\n",
       "      <th></th>\n",
       "      <th></th>\n",
       "    </tr>\n",
       "  </thead>\n",
       "  <tbody>\n",
       "    <tr>\n",
       "      <th>2018-11-12</th>\n",
       "      <td>000300.SH</td>\n",
       "      <td>沪深300</td>\n",
       "      <td>3160.246</td>\n",
       "      <td>3205.1407</td>\n",
       "      <td>3206.512</td>\n",
       "      <td>3152.439</td>\n",
       "      <td>37.6965</td>\n",
       "      <td>1.1901</td>\n",
       "      <td>3167.4442</td>\n",
       "    </tr>\n",
       "    <tr>\n",
       "      <th>2018-11-13</th>\n",
       "      <td>000300.SH</td>\n",
       "      <td>沪深300</td>\n",
       "      <td>3164.922</td>\n",
       "      <td>3237.3823</td>\n",
       "      <td>3254.768</td>\n",
       "      <td>3161.097</td>\n",
       "      <td>32.2416</td>\n",
       "      <td>1.0059</td>\n",
       "      <td>3205.1407</td>\n",
       "    </tr>\n",
       "    <tr>\n",
       "      <th>2018-11-14</th>\n",
       "      <td>000300.SH</td>\n",
       "      <td>沪深300</td>\n",
       "      <td>3233.640</td>\n",
       "      <td>3204.9427</td>\n",
       "      <td>3239.244</td>\n",
       "      <td>3200.228</td>\n",
       "      <td>-32.4396</td>\n",
       "      <td>-1.0020</td>\n",
       "      <td>3237.3823</td>\n",
       "    </tr>\n",
       "    <tr>\n",
       "      <th>2018-11-15</th>\n",
       "      <td>000300.SH</td>\n",
       "      <td>沪深300</td>\n",
       "      <td>3201.281</td>\n",
       "      <td>3242.3715</td>\n",
       "      <td>3242.383</td>\n",
       "      <td>3198.781</td>\n",
       "      <td>37.4288</td>\n",
       "      <td>1.1678</td>\n",
       "      <td>3204.9427</td>\n",
       "    </tr>\n",
       "    <tr>\n",
       "      <th>2018-11-16</th>\n",
       "      <td>000300.SH</td>\n",
       "      <td>沪深300</td>\n",
       "      <td>3242.879</td>\n",
       "      <td>3257.6735</td>\n",
       "      <td>3282.390</td>\n",
       "      <td>3223.721</td>\n",
       "      <td>15.3020</td>\n",
       "      <td>0.4719</td>\n",
       "      <td>3242.3715</td>\n",
       "    </tr>\n",
       "  </tbody>\n",
       "</table>\n",
       "</div>"
      ],
      "text/plain": [
       "                   id   name      open      close      high       low  \\\n",
       "date                                                                    \n",
       "2018-11-12  000300.SH  沪深300  3160.246  3205.1407  3206.512  3152.439   \n",
       "2018-11-13  000300.SH  沪深300  3164.922  3237.3823  3254.768  3161.097   \n",
       "2018-11-14  000300.SH  沪深300  3233.640  3204.9427  3239.244  3200.228   \n",
       "2018-11-15  000300.SH  沪深300  3201.281  3242.3715  3242.383  3198.781   \n",
       "2018-11-16  000300.SH  沪深300  3242.879  3257.6735  3282.390  3223.721   \n",
       "\n",
       "             return  return_percent  pre_close  \n",
       "date                                            \n",
       "2018-11-12  37.6965          1.1901  3167.4442  \n",
       "2018-11-13  32.2416          1.0059  3205.1407  \n",
       "2018-11-14 -32.4396         -1.0020  3237.3823  \n",
       "2018-11-15  37.4288          1.1678  3204.9427  \n",
       "2018-11-16  15.3020          0.4719  3242.3715  "
      ]
     },
     "execution_count": 19,
     "metadata": {},
     "output_type": "execute_result"
    }
   ],
   "source": [
    "df_sh300.head()"
   ]
  },
  {
   "cell_type": "code",
   "execution_count": 20,
   "metadata": {},
   "outputs": [
    {
     "data": {
      "text/plain": [
       "Text(0, 0.5, 'volatility')"
      ]
     },
     "execution_count": 20,
     "metadata": {},
     "output_type": "execute_result"
    },
    {
     "data": {
      "image/png": "[encoded data removed]",
      "text/plain": [
       "<Figure size 432x288 with 1 Axes>"
      ]
     },
     "metadata": {
      "needs_background": "light"
     },
     "output_type": "display_data"
    }
   ],
   "source": [
    "plt.bar(pd.to_datetime(df_sh300.index)[::], (df_sh300['return_percent']**2).rolling(10).mean()[::], color='black')\n",
    "ax = plt.gca()\n",
    "\n",
    "# 隐藏右边和上边的边框\n",
    "ax.spines['right'].set_color('none')\n",
    "ax.spines['top'].set_color('none')\n",
    "plt.xlabel('year')\n",
    "plt.ylabel(r'volatility')"
   ]
  },
  {
   "cell_type": "markdown",
   "metadata": {},
   "source": [
    "# 自相关性"
   ]
  },
  {
   "cell_type": "code",
   "execution_count": 21,
   "metadata": {},
   "outputs": [
    {
     "name": "stderr",
     "output_type": "stream",
     "text": [
      "  0%|          | 0/277 [00:00<?, ?it/s]"
     ]
    },
    {
     "name": "stderr",
     "output_type": "stream",
     "text": [
      "100%|██████████| 277/277 [00:20<00:00, 13.82it/s]\n"
     ]
    },
    {
     "data": {
      "image/png": "[encoded data removed]",
      "text/plain": [
       "<Figure size 432x288 with 1 Axes>"
      ]
     },
     "metadata": {
      "needs_background": "light"
     },
     "output_type": "display_data"
    }
   ],
   "source": [
    "n = 200\n",
    "l_corr_list = [0 for i in range(n)]\n",
    "l_corr_list_ = [0 for i in range(n)]\n",
    "#bestname = new_df.columns\n",
    "test_names = bestname[:]\n",
    "\n",
    "for name in tqdm(test_names):\n",
    "    small_df = df[df['id']==name].copy().dropna()\n",
    "    series = pd.Series((small_df['volume'].diff()).fillna(0))\n",
    "\n",
    "    autocorrelation = series.autocorr()\n",
    "\n",
    "    # 计算不同滞后阶数的自相关系数\n",
    "    lags = range(n)\n",
    "    for lag in lags:\n",
    "        l_corr_list[lag] += series.autocorr(lag)/len(test_names)\n",
    "\n",
    "plt.stem(range(n), np.array(l_corr_list))\n",
    "#plt.scatter(range(n), np.array(l_corr_list_),c='r')\n",
    "plt.xlabel(r'lag')\n",
    "plt.ylabel('auto-correlation')\n",
    "#plt.title(r'auto')\n",
    "plt.show()"
   ]
  },
  {
   "cell_type": "code",
   "execution_count": 22,
   "metadata": {},
   "outputs": [
    {
     "data": {
      "image/png": "[encoded data removed]",
      "text/plain": [
       "<Figure size 432x288 with 1 Axes>"
      ]
     },
     "metadata": {
      "needs_background": "light"
     },
     "output_type": "display_data"
    }
   ],
   "source": [
    "step = 1\n",
    "plt.stem(range(0,50,step), np.array(l_corr_list[:50:step]), linefmt='black', markerfmt='ko', basefmt='k-')\n",
    "ax = plt.gca()\n",
    "\n",
    "# 隐藏右边和上边的边框\n",
    "ax.spines['right'].set_color('none')\n",
    "ax.spines['top'].set_color('none')\n",
    "#plt.scatter(range(n), np.array(l_corr_list_),c='r')\n",
    "plt.xlabel(r'$ \\tau$/day')\n",
    "plt.ylabel('average correlation')\n",
    "#plt.title(r'relation between corr and $\\tau$')\n",
    "plt.show()"
   ]
  },
  {
   "cell_type": "code",
   "execution_count": null,
   "metadata": {},
   "outputs": [],
   "source": []
  }
 ],
 "metadata": {
  "kernelspec": {
   "display_name": "base",
   "language": "python",
   "name": "python3"
  },
  "language_info": {
   "codemirror_mode": {
    "name": "ipython",
    "version": 3
   },
   "file_extension": ".py",
   "mimetype": "text/x-python",
   "name": "python",
   "nbconvert_exporter": "python",
   "pygments_lexer": "ipython3",
   "version": "3.9.12"
  }
 },
 "nbformat": 4,
 "nbformat_minor": 2
}
